{
 "cells": [
  {
   "cell_type": "code",
   "execution_count": 1,
   "metadata": {},
   "outputs": [],
   "source": [
    "# skiprows: pular linhas do arquivo sirgas baixado e extraido\n",
    "import os\n",
    "import gzip\n",
    "import shutil\n",
    "import requests\n",
    "import re\n",
    "import random\n",
    "from zipfile import ZipFile\n",
    "import pandas as pd\n"
   ]
  },
  {
   "cell_type": "code",
   "execution_count": 8,
   "metadata": {},
   "outputs": [],
   "source": [
    "class downloader:\n",
    "    def __init__(self, server_url_format_crd, server_url_format_vel, destination_folder):\n",
    "        self.server_url_format_crd = server_url_format_crd # Stores the URL in the instance attribute\n",
    "        self.server_url_format_vel = server_url_format_vel # Stores the URL in the instance attribute\n",
    "        self.destination_folder = destination_folder # Stores the destination folder in the instance attribute\n",
    "        # self.file_Path_extraction = None # Initialize the instance attribute as None\n",
    "        \n",
    "        if not os.path.exists(self.destination_folder): # Creates a folder if it doesn't exist\n",
    "            os.makedirs(self.destination_folder)\n",
    "            print(\"A seguinte pasta foi criada: \", self.destination_folder)\n",
    "            \n",
    "    # Method download_file \n",
    "    def download_file(self):\n",
    "        # Download CRD\n",
    "        file_name_crd = os.path.basename(self.server_url_format_crd) # Get the base name in specified path. Use os.path.split() method to split the specified path into a pair (head, tail)            \n",
    "        # If file_name_crd has invalid characters or is empty\n",
    "        invalid_chars = r'[<>:\"/\\\\|?*]' # Creates a character class with invalid characters\n",
    "        if not file_name_crd or re.search(invalid_chars, file_name_crd): # Checks if the file_name_crd is empty or contains invalid characters (re.search looks for any invalid characters)\n",
    "            file_name_crd = f\"download_{random.randint(1, 99999)}.zip\"  # Nome padrão com número aleatório\n",
    "\n",
    "        file_path_crd = os.path.join(self.destination_folder, file_name_crd) # Create the destination path based on the destination folder and the file name\n",
    "        \n",
    "        response = requests.get(self.server_url_format_crd) # Getting the url\n",
    "        if response.status_code == 200: #If ok, downloads the file\n",
    "            with open(file_path_crd, 'wb') as file: # When opening files using open(), the WITH statement ensures that the file is closed automatically after operations are completed. \n",
    "                file.write(response.content)\n",
    "                print(\"Arquivo salvo em: \", file_path_crd)\n",
    "        else:\n",
    "            print('Falha ao realizar download')\n",
    "            return\n",
    "    \n",
    "    # Download VEL\n",
    "        file_name_vel = os.path.basename(self.server_url_format_vel) # Get the base name in specified path. Use os.path.split() method to split the specified path into a pair (head, tail)            \n",
    "        # If file_name_vel has invalid characters or is empty\n",
    "        invalid_chars = r'[<>:\"/\\\\|?*]' # Creates a character class with invalid characters\n",
    "        if not file_name_vel or re.search(invalid_chars, file_name_vel): # Checks if the file_name_vel is empty or contains invalid characters (re.search looks for any invalid characters)\n",
    "            file_name_vel = f\"download_{random.randint(1, 99999)}.zip\"  # Nome padrão com número aleatório\n",
    "\n",
    "        file_path_vel = os.path.join(self.destination_folder, file_name_vel) # Create the destination path based on the destination folder and the file name\n",
    "        print(\"file_path_vel: \", file_path_vel)\n",
    "\n",
    "        response = requests.get(self.server_url_format_vel) # Getting the url\n",
    "        if response.status_code == 200: #If ok, downloads the file\n",
    "            with open(file_path_vel, 'wb') as file: # When opening files using open(), the WITH statement ensures that the file is closed automatically after operations are completed. \n",
    "                file.write(response.content)\n",
    "                print(\"Arquivo salvo em: \", file_path_vel)\n",
    "        else:\n",
    "            print('Falha ao realizar download')\n",
    "            return\n",
    "\n",
    "        # Decompress and creates the CRD Data Frame\n",
    "        df_crd = pd.read_csv(file_path_crd, compression='gzip', encoding=\"ANSI\", on_bad_lines='skip', skiprows=16)\n",
    "        print(\"CRD: \", df_crd)\n",
    "\n",
    "        df_vel = pd.read_csv(file_path_vel, compression='gzip', encoding=\"ANSI\", on_bad_lines='skip', skiprows=16)\n",
    "        print(\"VEL: \", df_crd)\n",
    "        \n"
   ]
  },
  {
   "cell_type": "code",
   "execution_count": 9,
   "metadata": {},
   "outputs": [],
   "source": [
    "link_crd = \"https://www.sirgas.org/archive/gps/SIRGAS/SIRGAS2022/SIRGAS2022_XYZ.CRD.gz\"\n",
    "link_vel = \"https://www.sirgas.org/archive/gps/SIRGAS/SIRGAS2022/SIRGAS2022_XYZ.VEL.gz\"\n",
    "folder = \"C:\\\\Users\\\\filip\\\\progcart\\\\projeto_2_geopandas\\\\docs\\\\files\\\\download_teste\"\n"
   ]
  },
  {
   "cell_type": "code",
   "execution_count": 10,
   "metadata": {},
   "outputs": [
    {
     "name": "stdout",
     "output_type": "stream",
     "text": [
      "Arquivo salvo em:  C:\\Users\\filip\\progcart\\projeto_2_geopandas\\docs\\files\\download_teste\\SIRGAS2022_XYZ.CRD.gz\n",
      "file_path_vel:  C:\\Users\\filip\\progcart\\projeto_2_geopandas\\docs\\files\\download_teste\\SIRGAS2022_XYZ.VEL.gz\n",
      "Arquivo salvo em:  C:\\Users\\filip\\progcart\\projeto_2_geopandas\\docs\\files\\download_teste\\SIRGAS2022_XYZ.VEL.gz\n",
      "CRD:         NUM   STATION NAME          X[m]     sig_X[m]        Y[m]     sig_Y[m]        Z[m]     sig_Z[m]  ID-SNX    START       END\n",
      "0         1  AACR 40612M001     644009.04617  0.0011...                                                                          \n",
      "1         2  AACR 40612M001     644009.00856  0.0010...                                                                          \n",
      "2         3  AACR 40612M001     644008.98473  0.0009...                                                                          \n",
      "3         4  ABCC 41939M001    1739438.02099  0.0006...                                                                          \n",
      "4         5  ABCC 41939M001    1739438.01430  0.0006...                                                                          \n",
      "...                                                 ...                                                                          \n",
      "1384   1385  ZECK 12351M001    3451174.47708  0.0002...                                                                          \n",
      "1385   1386  ZECK 12351M001    3451174.48161  0.0004...                                                                          \n",
      "1386   1387  ZECK 12351M001    3451174.48154  0.0003...                                                                          \n",
      "1387   1388  ZECK 12351M001    3451174.48362  0.0014...                                                                          \n",
      "1388   1389  ZIMM 14001M004    4331296.92425  0.0001...                                                                          \n",
      "\n",
      "[1389 rows x 1 columns]\n",
      "VEL:         NUM   STATION NAME          X[m]     sig_X[m]        Y[m]     sig_Y[m]        Z[m]     sig_Z[m]  ID-SNX    START       END\n",
      "0         1  AACR 40612M001     644009.04617  0.0011...                                                                          \n",
      "1         2  AACR 40612M001     644009.00856  0.0010...                                                                          \n",
      "2         3  AACR 40612M001     644008.98473  0.0009...                                                                          \n",
      "3         4  ABCC 41939M001    1739438.02099  0.0006...                                                                          \n",
      "4         5  ABCC 41939M001    1739438.01430  0.0006...                                                                          \n",
      "...                                                 ...                                                                          \n",
      "1384   1385  ZECK 12351M001    3451174.47708  0.0002...                                                                          \n",
      "1385   1386  ZECK 12351M001    3451174.48161  0.0004...                                                                          \n",
      "1386   1387  ZECK 12351M001    3451174.48154  0.0003...                                                                          \n",
      "1387   1388  ZECK 12351M001    3451174.48362  0.0014...                                                                          \n",
      "1388   1389  ZIMM 14001M004    4331296.92425  0.0001...                                                                          \n",
      "\n",
      "[1389 rows x 1 columns]\n"
     ]
    }
   ],
   "source": [
    "obj_teste = downloader(link_crd, link_vel, folder)\n",
    "obj_teste.download_file()"
   ]
  }
 ],
 "metadata": {
  "kernelspec": {
   "display_name": "pandas",
   "language": "python",
   "name": "python3"
  },
  "language_info": {
   "codemirror_mode": {
    "name": "ipython",
    "version": 3
   },
   "file_extension": ".py",
   "mimetype": "text/x-python",
   "name": "python",
   "nbconvert_exporter": "python",
   "pygments_lexer": "ipython3",
   "version": "3.11.10"
  }
 },
 "nbformat": 4,
 "nbformat_minor": 2
}
